{
 "cells": [
  {
   "cell_type": "code",
   "execution_count": 1,
   "id": "cd658f88-22ad-4e74-8f05-36af22a7d144",
   "metadata": {},
   "outputs": [],
   "source": [
    "import tensorly as tl\n",
    "import torch\n",
    "import torch.nn.functional as F\n",
    "from torch import nn\n",
    "import numpy as np\n",
    "import statistics\n",
    "import torch.optim"
   ]
  },
  {
   "cell_type": "code",
   "execution_count": null,
   "id": "47ae1358-6663-4661-94ff-ce5865422809",
   "metadata": {},
   "outputs": [],
   "source": []
  },
  {
   "cell_type": "code",
   "execution_count": null,
   "id": "c0984b3a-6207-47b4-b5e9-7d8b4839ad1a",
   "metadata": {},
   "outputs": [],
   "source": [
    "class CNN_Extractor(nn.Module):\n",
    "    def __init__(self, w, R):\n",
    "        super().__init__()\n",
    "        #self.local_kernel = local_kernel\n",
    "        #self.global_kernel =  global_kernel\n",
    "#         self.w = w\n",
    "        self.R = R\n",
    "        self.w = w\n",
    "        self.conv2d = nn.Conv2d(1,1,(self.R,1))\n",
    "        self.fc = nn.Linear(in_features=self.R, out_features=self.R) # Change this number of out_features to forecast longer time\n",
    "        \n",
    "    def forward(self, x):\n",
    "        x = self.conv2d(x)\n",
    "        x = self.fc(x)\n",
    "#         x = F.relu(x)\n",
    "#         x = nn.Conv1d(in_channels=1, out_channels=1, kernel_size=(self.R,2))(x)\n",
    "#         x = nn.Linear(in_features=np.prod(x.shape), out_features=(2*self.R))(x)\n",
    "#         x = F.relU(x)\n",
    "        return x"
   ]
  },
  {
   "cell_type": "code",
   "execution_count": null,
   "id": "ec8ad080-1e3b-4d93-b334-20969daaae9f",
   "metadata": {},
   "outputs": [],
   "source": [
    "# Hyperparameters\n",
    "learning_rate = 1e-3\n",
    "train_len = train_tensor.shape[3]\n",
    "val_len = val_tensor.shape[3]\n",
    "test_len = test_tensor.shape[3]\n",
    "epochs = 20\n",
    "# Create Model\n",
    "cnn_extractor = CNN_Extractor(5,5)\n",
    "loss_fnc = nn.MSELoss()\n",
    "optimizer = torch.optim.SGD(cnn_extractor.parameters(), lr=learning_rate, momentum=0.9)\n"
   ]
  }
 ],
 "metadata": {
  "kernelspec": {
   "display_name": "Python 3",
   "language": "python",
   "name": "python3"
  },
  "language_info": {
   "codemirror_mode": {
    "name": "ipython",
    "version": 3
   },
   "file_extension": ".py",
   "mimetype": "text/x-python",
   "name": "python",
   "nbconvert_exporter": "python",
   "pygments_lexer": "ipython3",
   "version": "3.6.5"
  }
 },
 "nbformat": 4,
 "nbformat_minor": 5
}
