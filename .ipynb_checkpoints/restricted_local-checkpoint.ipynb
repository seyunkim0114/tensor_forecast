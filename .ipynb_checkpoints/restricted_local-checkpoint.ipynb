{
 "cells": [
  {
   "cell_type": "code",
   "execution_count": 1,
   "id": "2d22e4e5-acc5-43b0-8c76-8b714173fc29",
   "metadata": {},
   "outputs": [],
   "source": [
    "import os\n",
    "import tensorly as tl\n",
    "import torch\n",
    "import torch.nn.functional as F\n",
    "from torch import nn\n",
    "import numpy as np\n",
    "import statistics\n",
    "import sys\n",
    "import torch.optim"
   ]
  },
  {
   "cell_type": "code",
   "execution_count": 2,
   "id": "126b25f4-ecbb-4fb0-bafb-3a647adc6264",
   "metadata": {},
   "outputs": [],
   "source": [
    "sys.path.append(\"home/seyunkim/Documents/time_series_data/PEMS-SF\")"
   ]
  },
  {
   "cell_type": "code",
   "execution_count": 14,
   "id": "0364e942-2ae3-415b-b4dd-605236c23dde",
   "metadata": {
    "tags": []
   },
   "outputs": [],
   "source": [
    "# data preprocessing 1 batch : (963,144)\n",
    "temp1 = []\n",
    "temp2 = []\n",
    "temp3 = []\n",
    "\n",
    "data1 = []\n",
    "data2 = []\n",
    "data3 = []\n",
    "start = 0\n",
    "indx = 0\n",
    "with open(\"/home/seyunkim/Documents/time_series_data/PEMS-SF/PEMS_train\") as f:\n",
    "    for i, line in enumerate(f):\n",
    "        if i==1:\n",
    "            line = f.readline()\n",
    "            line = line[1:len(line)-1]\n",
    "            indx = line.find(';',indx,-1)\n",
    "            temp1 = line[start:indx]\n",
    "            data1 = np.asarray(temp1.split(' '))\n",
    "            start = indx+1\n",
    "            temp1 = []\n",
    "            while line.find(';',start,-1)!=-1:\n",
    "                indx = line.find(';',start,-1)\n",
    "                temp1 = line[start:indx]\n",
    "                tempnp = np.asarray(temp1.split(' '))\n",
    "                data1 = np.vstack((tempnp, data1))\n",
    "                temp1=[]\n",
    "                start=indx+1\n",
    "            temp1 = line[start:-1]\n",
    "            data1 = np.vstack((data1,np.asarray(temp1.split(' '))))\n",
    "        if i==2:\n",
    "            start = 0\n",
    "            indx = 0\n",
    "            line = f.readline()\n",
    "            line = line[1:len(line)-1]\n",
    "            indx = line.find(';',indx,-1)\n",
    "            temp2 = line[start:indx]\n",
    "            data2 = np.asarray(temp2.split(' '))\n",
    "            start = indx+1\n",
    "            temp2 = []\n",
    "            while line.find(';',start,-1)!=-1:\n",
    "                indx = line.find(';',start,-1)\n",
    "                temp2 = line[start:indx]\n",
    "                tempnp = np.asarray(temp2.split(' '))\n",
    "                data2 = np.vstack((tempnp, data2))\n",
    "                temp2=[]\n",
    "                start=indx+1\n",
    "            temp2 = line[start:-1]\n",
    "            data2 = np.vstack((data2,np.asarray(temp2.split(' '))))\n",
    "        if i==3:\n",
    "            start = 0\n",
    "            indx = 0\n",
    "            line = f.readline()\n",
    "            line = line[1:len(line)-1]\n",
    "            indx = line.find(';',indx,-1)\n",
    "            temp3 = line[start:indx]\n",
    "            data3 = np.asarray(temp3.split(' '))\n",
    "            start = indx+1\n",
    "            temp3 = []\n",
    "            while line.find(';',start,-1)!=-1:\n",
    "                indx = line.find(';',start,-1)\n",
    "                temp3 = line[start:indx]\n",
    "                tempnp = np.asarray(temp3.split(' '))\n",
    "                data3 = np.vstack((tempnp, data3))\n",
    "                temp3=[]\n",
    "                start=indx+1\n",
    "            temp3 = line[start:-1]\n",
    "            data3 = np.vstack((data3,np.asarray(temp3.split(' '))))\n"
   ]
  },
  {
   "cell_type": "code",
   "execution_count": 15,
   "id": "fed0ba54-d8bb-40e6-94ce-bfb730eef675",
   "metadata": {},
   "outputs": [
    {
     "data": {
      "text/plain": [
       "(963, 144)"
      ]
     },
     "execution_count": 15,
     "metadata": {},
     "output_type": "execute_result"
    }
   ],
   "source": [
    "data2.shape"
   ]
  },
  {
   "cell_type": "code",
   "execution_count": 17,
   "id": "d0409b57-3a3e-49b2-915a-04f9967f5785",
   "metadata": {},
   "outputs": [],
   "source": [
    "train_tensor=torch.FloatTensor(np.ndarray.astype(data1,'float32').reshape(1,1,963,144))\n",
    "val_tensor=torch.FloatTensor(np.ndarray.astype(data2,'float32').reshape(1,1,963,144))\n",
    "test_tensor=torch.FloatTensor(np.ndarray.astype(data3,'float32').reshape(1,1,963,144))"
   ]
  },
  {
   "cell_type": "code",
   "execution_count": 2,
   "id": "888e8253-bcdf-470a-837d-f971d4d80990",
   "metadata": {},
   "outputs": [],
   "source": [
    "# class Lambda(nn.Module):\n",
    "#     def __init__(self):\n",
    "#         super().__init__()\n",
    "#         self.func = func\n",
    "    \n",
    "#     def forward(self, x):\n",
    "#         return self.func(x)"
   ]
  },
  {
   "cell_type": "code",
   "execution_count": 3,
   "id": "9f7e01b3-8a92-4efd-b57f-0812bdc1c998",
   "metadata": {},
   "outputs": [],
   "source": [
    "# tl.set_backend('numpy')\n",
    "# tensor_data = torch.FloatTensor(np.random.rand(1,1,30,500))\n",
    "# split = tensor_data.shape[3]//4"
   ]
  },
  {
   "cell_type": "code",
   "execution_count": 4,
   "id": "23e111e3-3477-4d15-8660-37224670935f",
   "metadata": {},
   "outputs": [],
   "source": [
    "# train_tensor = tensor_data[:,:,:,0:split*2]\n",
    "# test_tensor = tensor_data[:,:,:,split*2:split*3]\n",
    "# val_tensor = tensor_data[:,:,:,split*3:tensor_data.shape[3]]"
   ]
  },
  {
   "cell_type": "code",
   "execution_count": 19,
   "id": "73e579cd-aac5-4de8-b7cc-4d3b8c865f54",
   "metadata": {},
   "outputs": [],
   "source": [
    "class CNN_Extractor(nn.Module):\n",
    "    def __init__(self, w, R, gKernel, lKernel):\n",
    "        super().__init__()\n",
    "        #self.local_kernel = local_kernel\n",
    "        #self.global_kernel =  global_kernel\n",
    "        self.w = w\n",
    "        self.R = R\n",
    "        self.gKernel = gKernel\n",
    "        self.lKernel = lKernel\n",
    "        self.conv2d_local = nn.Conv2d(1,1,(self.R,self.lKernel)) # 30x1\n",
    "        self.conv2d_global = nn.Conv2d(1,1,(self.R,self.gKernel)) # 30x5\n",
    "        self.fc = nn.Linear(in_features=2*self.w-lKernel-gKernel+2, out_features=self.R) \n",
    "            # Change this number of out_features to forecast longer time\n",
    "            \n",
    "    def forward(self, x):\n",
    "        _local = self.conv2d_local(x)\n",
    "        _global = self.conv2d_global(x)\n",
    "        x = torch.cat((_local,_global),3)\n",
    "        x = self.fc(x)\n",
    "        x = torch.tanh(x)\n",
    "        return x"
   ]
  },
  {
   "cell_type": "code",
   "execution_count": 27,
   "id": "4fa3d51d-af4e-415f-b660-c47f46a572d8",
   "metadata": {},
   "outputs": [],
   "source": [
    "# Hyperparameters\n",
    "learning_rate = 1e-3\n",
    "train_len = train_tensor.shape[3]\n",
    "val_len = val_tensor.shape[3]\n",
    "# test_len = test_tensor.shape[3]\n",
    "epochs = 100\n",
    "w = 100\n",
    "gK = 50\n",
    "lK = 5\n",
    "# Create Model\n",
    "cnn_extractor = CNN_Extractor(w,963,gK,lK)\n",
    "loss_fnc = nn.MSELoss()\n",
    "optimizer = torch.optim.SGD(cnn_extractor.parameters(), lr=learning_rate, momentum=0.9)\n"
   ]
  },
  {
   "cell_type": "code",
   "execution_count": 28,
   "id": "1870f3b2-884e-4c7b-8062-f6a6575baf3b",
   "metadata": {
    "tags": []
   },
   "outputs": [
    {
     "name": "stdout",
     "output_type": "stream",
     "text": [
      "Epoch: 0, Loss: 0.007860937155783176\t\tEpoch: 0, Val-loss: 0.006097737234085798\n",
      "Epoch: 2, Loss: 0.007720621302723885\t\tEpoch: 2, Val-loss: 0.006148021202534437\n",
      "Epoch: 4, Loss: 0.007694792002439499\t\tEpoch: 4, Val-loss: 0.006135225296020508\n",
      "Epoch: 6, Loss: 0.00766723370179534\t\tEpoch: 6, Val-loss: 0.006114876363426447\n",
      "Epoch: 8, Loss: 0.007640632800757885\t\tEpoch: 8, Val-loss: 0.006094756536185741\n",
      "Epoch: 10, Loss: 0.007614970672875643\t\tEpoch: 10, Val-loss: 0.006075222045183182\n",
      "Epoch: 12, Loss: 0.007590028923004866\t\tEpoch: 12, Val-loss: 0.006056153681129217\n",
      "Epoch: 14, Loss: 0.007565660402178764\t\tEpoch: 14, Val-loss: 0.006037447135895491\n",
      "Epoch: 16, Loss: 0.007541761267930269\t\tEpoch: 16, Val-loss: 0.006019032094627619\n",
      "Epoch: 18, Loss: 0.007518261205404997\t\tEpoch: 18, Val-loss: 0.006000857800245285\n",
      "Epoch: 20, Loss: 0.007495102006942034\t\tEpoch: 20, Val-loss: 0.0059828911907970905\n",
      "Epoch: 22, Loss: 0.007472239434719086\t\tEpoch: 22, Val-loss: 0.005965104326605797\n",
      "Epoch: 24, Loss: 0.007449641358107328\t\tEpoch: 24, Val-loss: 0.005947479046881199\n",
      "Epoch: 26, Loss: 0.007427276577800512\t\tEpoch: 26, Val-loss: 0.0059300013817846775\n",
      "Epoch: 28, Loss: 0.0074051241390407085\t\tEpoch: 28, Val-loss: 0.0059126573614776134\n",
      "Epoch: 30, Loss: 0.007383162621408701\t\tEpoch: 30, Val-loss: 0.0058954390697181225\n",
      "Epoch: 32, Loss: 0.007361377123743296\t\tEpoch: 32, Val-loss: 0.005878339987248182\n",
      "Epoch: 34, Loss: 0.0073397536762058735\t\tEpoch: 34, Val-loss: 0.005861351266503334\n",
      "Epoch: 36, Loss: 0.007318280637264252\t\tEpoch: 36, Val-loss: 0.005844468716531992\n",
      "Epoch: 38, Loss: 0.007296950090676546\t\tEpoch: 38, Val-loss: 0.005827686749398708\n",
      "Epoch: 40, Loss: 0.007275752257555723\t\tEpoch: 40, Val-loss: 0.005811001639813185\n",
      "Epoch: 42, Loss: 0.007254679221659899\t\tEpoch: 42, Val-loss: 0.00579441012814641\n",
      "Epoch: 44, Loss: 0.0072337263263762\t\tEpoch: 44, Val-loss: 0.005777908023446798\n",
      "Epoch: 46, Loss: 0.007212887983769178\t\tEpoch: 46, Val-loss: 0.0057614948600530624\n",
      "Epoch: 48, Loss: 0.007192159537225962\t\tEpoch: 48, Val-loss: 0.005745165050029755\n",
      "Epoch: 50, Loss: 0.007171534933149815\t\tEpoch: 50, Val-loss: 0.005728920456022024\n",
      "Epoch: 52, Loss: 0.007151012774556875\t\tEpoch: 52, Val-loss: 0.005712754093110561\n",
      "Epoch: 54, Loss: 0.0071305884048342705\t\tEpoch: 54, Val-loss: 0.00569666875526309\n",
      "Epoch: 56, Loss: 0.007110260426998138\t\tEpoch: 56, Val-loss: 0.005680659785866737\n",
      "Epoch: 58, Loss: 0.007090026047080755\t\tEpoch: 58, Val-loss: 0.00566472765058279\n",
      "Epoch: 60, Loss: 0.007069881539791822\t\tEpoch: 60, Val-loss: 0.005648869089782238\n",
      "Epoch: 62, Loss: 0.007049825508147478\t\tEpoch: 62, Val-loss: 0.005633085500448942\n",
      "Epoch: 64, Loss: 0.007029857020825148\t\tEpoch: 64, Val-loss: 0.005617373622953892\n",
      "Epoch: 66, Loss: 0.007009973283857107\t\tEpoch: 66, Val-loss: 0.005601733922958374\n",
      "Epoch: 68, Loss: 0.00699017196893692\t\tEpoch: 68, Val-loss: 0.0055861640721559525\n",
      "Epoch: 70, Loss: 0.006970454007387161\t\tEpoch: 70, Val-loss: 0.005570664536207914\n",
      "Epoch: 72, Loss: 0.006950815673917532\t\tEpoch: 72, Val-loss: 0.005555233918130398\n",
      "Epoch: 74, Loss: 0.006931257899850607\t\tEpoch: 74, Val-loss: 0.0055398703552782536\n",
      "Epoch: 76, Loss: 0.0069117764942348\t\tEpoch: 76, Val-loss: 0.005524576175957918\n",
      "Epoch: 78, Loss: 0.006892373785376549\t\tEpoch: 78, Val-loss: 0.0055093481205403805\n",
      "Epoch: 80, Loss: 0.006873047444969416\t\tEpoch: 80, Val-loss: 0.005494186654686928\n",
      "Epoch: 82, Loss: 0.006853796541690826\t\tEpoch: 82, Val-loss: 0.005479091312736273\n",
      "Epoch: 84, Loss: 0.006834620144218206\t\tEpoch: 84, Val-loss: 0.005464061163365841\n",
      "Epoch: 86, Loss: 0.006815517786890268\t\tEpoch: 86, Val-loss: 0.0054490952752530575\n",
      "Epoch: 88, Loss: 0.0067964885383844376\t\tEpoch: 88, Val-loss: 0.005434194579720497\n",
      "Epoch: 90, Loss: 0.006777532398700714\t\tEpoch: 90, Val-loss: 0.005419358145445585\n",
      "Epoch: 92, Loss: 0.006758647505193949\t\tEpoch: 92, Val-loss: 0.005404584109783173\n",
      "Epoch: 94, Loss: 0.006739833392202854\t\tEpoch: 94, Val-loss: 0.005389874335378408\n",
      "Epoch: 96, Loss: 0.006721091456711292\t\tEpoch: 96, Val-loss: 0.005375226493924856\n",
      "Epoch: 98, Loss: 0.006702418439090252\t\tEpoch: 98, Val-loss: 0.0053606415167450905\n"
     ]
    }
   ],
   "source": [
    "# Train and evaluation\n",
    "for epoch in range(epochs):\n",
    "    losses = torch.tensor([0])\n",
    "    for i in range(train_len-w):\n",
    "        train_input = train_tensor[:,:,:,i:i+w] #input Rx1\n",
    "        train_target = torch.transpose(train_tensor[:,:,:,i+w:i+w+1],2,3)\n",
    "        \n",
    "        cnn_extractor.train()\n",
    "        y_pred = cnn_extractor(train_input)\n",
    "        loss = loss_fnc(train_target, y_pred)\n",
    "        losses = torch.hstack((losses, loss))\n",
    "        \n",
    "        optimizer.zero_grad()\n",
    "        loss.backward()\n",
    "        optimizer.step()\n",
    "    \n",
    "    if epoch%2==0:\n",
    "        cnn_extractor.eval()\n",
    "        val_losses = torch.tensor([0])\n",
    "        for i in range(val_len-w):\n",
    "#             cnn_extractor.eval()\n",
    "            val_input = val_tensor[:,:,:,i:i+w]\n",
    "            val_target = torch.transpose(val_tensor[:,:,:,i+w:i+w+1],2,3)\n",
    "            y_val = cnn_extractor(val_input)\n",
    "            val_loss = loss_fnc(val_target, y_val)\n",
    "            val_losses = torch.dstack((val_losses, val_loss))\n",
    "\n",
    "        val_avg = torch.mean(val_losses)\n",
    "        train_avg = torch.mean(losses)\n",
    "        print(f'Epoch: {epoch}, Loss: {train_avg}\\t\\tEpoch: {epoch}, Val-loss: {val_avg}')\n",
    "\n"
   ]
  },
  {
   "cell_type": "code",
   "execution_count": 22,
   "id": "b54364b5-5fc9-44fe-a484-183fc40116b9",
   "metadata": {},
   "outputs": [],
   "source": [
    "def test_evaluate(data, w, comment):\n",
    "    test_losses = torch.tensor([0])\n",
    "    for i in range(data.shape[3]-w):\n",
    "        test_data = data[:,:,:,i:i+w]\n",
    "        test_target = torch.transpose(data[:,:,:,i+w:i+w+1],2,3)\n",
    "        prediction = cnn_extractor(test_data)\n",
    "\n",
    "        test_loss = loss_fnc(test_target, prediction)\n",
    "        test_losses = torch.dstack((test_loss, test_losses))\n",
    "    \n",
    "    test_avg = torch.mean(test_losses)\n",
    "    print(f'Comment: {comment}\\nTest Loss : {test_avg}')"
   ]
  },
  {
   "cell_type": "code",
   "execution_count": 29,
   "id": "7b029ddc-284c-44b9-bcd6-3419104db7a2",
   "metadata": {},
   "outputs": [
    {
     "name": "stdout",
     "output_type": "stream",
     "text": [
      "Comment: w=100,gk=50\n",
      "Test Loss : 0.006119453813880682\n"
     ]
    }
   ],
   "source": [
    "test_evaluate(test_tensor, w, \"w=100,gk=50\")"
   ]
  },
  {
   "cell_type": "code",
   "execution_count": 26,
   "id": "a62b6ea4-eff3-4f6c-836d-2f83c74983e4",
   "metadata": {},
   "outputs": [
    {
     "name": "stdout",
     "output_type": "stream",
     "text": [
      "Comment: w=100\n",
      "Test Loss : 0.005983165465295315\n"
     ]
    }
   ],
   "source": [
    "test_evaluate(test_tensor, w, \"w=100\")"
   ]
  },
  {
   "cell_type": "code",
   "execution_count": 23,
   "id": "f8dcdddc-0d2f-4526-bdd9-bc59cb490264",
   "metadata": {},
   "outputs": [
    {
     "name": "stdout",
     "output_type": "stream",
     "text": [
      "Comment: real data\n",
      "Test Loss : 0.00761840958148241\n"
     ]
    }
   ],
   "source": [
    "test_evaluate(test_tensor, w, \"real data\")"
   ]
  },
  {
   "cell_type": "code",
   "execution_count": 9,
   "id": "e138e81a-a2d0-4687-85f0-3921d7f30d87",
   "metadata": {},
   "outputs": [
    {
     "name": "stdout",
     "output_type": "stream",
     "text": [
      "Comment: fixed eval\n",
      "Test Loss : 0.08689478039741516\n"
     ]
    }
   ],
   "source": [
    "test_evaluate(test_tensor, \"fixed eval\")"
   ]
  },
  {
   "cell_type": "code",
   "execution_count": 10,
   "id": "4d4d321d-7fd1-4650-9584-44745674b4ca",
   "metadata": {},
   "outputs": [
    {
     "name": "stdout",
     "output_type": "stream",
     "text": [
      "Comment: dawon\n",
      "Test Loss : 0.08689478039741516\n"
     ]
    }
   ],
   "source": [
    "test_evaluate(test_tensor, \"dawon\")"
   ]
  },
  {
   "cell_type": "code",
   "execution_count": 11,
   "id": "d8ab73c8-95bf-415e-867e-0fcd32087af0",
   "metadata": {},
   "outputs": [
    {
     "name": "stdout",
     "output_type": "stream",
     "text": [
      "Comment: Global+local\n",
      "Test Loss : 0.08689478039741516\n"
     ]
    }
   ],
   "source": [
    "test_evaluate(test_tensor, \"Global+local\")"
   ]
  },
  {
   "cell_type": "code",
   "execution_count": 12,
   "id": "5cb294bc-ab3f-4c44-8d4d-816e6c3f3e89",
   "metadata": {},
   "outputs": [
    {
     "name": "stdout",
     "output_type": "stream",
     "text": [
      "Comment: Larger dataset\n",
      "Test Loss : 0.08689478039741516\n"
     ]
    }
   ],
   "source": [
    "test_evaluate(test_tensor, \"Larger dataset\")"
   ]
  },
  {
   "cell_type": "code",
   "execution_count": 13,
   "id": "a4bfef87-c496-49d8-8439-9ec4c8d78946",
   "metadata": {},
   "outputs": [
    {
     "name": "stdout",
     "output_type": "stream",
     "text": [
      "Comment: Without ReLu\n",
      "Test Loss : 0.08689478039741516\n"
     ]
    }
   ],
   "source": [
    "test_evaluate(test_tensor, \"Without ReLu\")"
   ]
  },
  {
   "cell_type": "code",
   "execution_count": 14,
   "id": "b4901d1c-1138-4e33-a3a8-ace430c5c9fa",
   "metadata": {},
   "outputs": [],
   "source": [
    "# # Evaluate with test data\n",
    "# test_losses = torch.tensor([0])\n",
    "# for i in range(test_len-5):\n",
    "#     test_data = test_tensor[:,:,:,i:i+5]\n",
    "#     test_target = torch.transpose(test_tensor[:,:,:,i+5:i+6],2,3)\n",
    "#     prediction = cnn_extractor(test_data)\n",
    "    \n",
    "#     test_loss = loss_fnc(test_target, prediction)\n",
    "#     test_losses = torch.dstack((test_loss, test_losses))\n",
    "\n",
    "# test_avg = torch.mean(test_losses)\n",
    "# print(f'Test Loss : {test_avg}')\n",
    "    "
   ]
  }
 ],
 "metadata": {
  "kernelspec": {
   "display_name": "Python 3",
   "language": "python",
   "name": "python3"
  },
  "language_info": {
   "codemirror_mode": {
    "name": "ipython",
    "version": 3
   },
   "file_extension": ".py",
   "mimetype": "text/x-python",
   "name": "python",
   "nbconvert_exporter": "python",
   "pygments_lexer": "ipython3",
   "version": "3.6.5"
  }
 },
 "nbformat": 4,
 "nbformat_minor": 5
}
