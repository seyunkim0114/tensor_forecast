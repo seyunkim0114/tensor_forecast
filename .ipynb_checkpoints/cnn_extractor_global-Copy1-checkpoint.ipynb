{
 "cells": [
  {
   "cell_type": "code",
   "execution_count": 1,
   "id": "2d22e4e5-acc5-43b0-8c76-8b714173fc29",
   "metadata": {},
   "outputs": [],
   "source": [
    "import tensorly as tl\n",
    "import torch\n",
    "import torch.nn.functional as F\n",
    "from torch import nn\n",
    "import numpy as np\n",
    "import statistics\n",
    "import torch.optim"
   ]
  },
  {
   "cell_type": "code",
   "execution_count": 2,
   "id": "888e8253-bcdf-470a-837d-f971d4d80990",
   "metadata": {},
   "outputs": [],
   "source": [
    "class Lambda(nn.Module):\n",
    "    def __init__(self):\n",
    "        super().__init__()\n",
    "        self.func = func\n",
    "    \n",
    "    def forward(self, x):\n",
    "        return self.func(x)"
   ]
  },
  {
   "cell_type": "code",
   "execution_count": 3,
   "id": "9f7e01b3-8a92-4efd-b57f-0812bdc1c998",
   "metadata": {},
   "outputs": [],
   "source": [
    "tl.set_backend('numpy')\n",
    "tensor_data = torch.FloatTensor(np.random.rand(1,1,30,500))\n",
    "split = tensor_data.shape[3]//4"
   ]
  },
  {
   "cell_type": "code",
   "execution_count": 4,
   "id": "23e111e3-3477-4d15-8660-37224670935f",
   "metadata": {},
   "outputs": [],
   "source": [
    "train_tensor = tensor_data[:,:,:,0:split*2]\n",
    "test_tensor = tensor_data[:,:,:,split*2:split*3]\n",
    "val_tensor = tensor_data[:,:,:,split*3:tensor_data.shape[3]]"
   ]
  },
  {
   "cell_type": "code",
   "execution_count": 24,
   "id": "73e579cd-aac5-4de8-b7cc-4d3b8c865f54",
   "metadata": {},
   "outputs": [],
   "source": [
    "class CNN_Extractor(nn.Module):\n",
    "    def __init__(self, w, R, gKernel, lKernel):\n",
    "        super().__init__()\n",
    "        #self.local_kernel = local_kernel\n",
    "        #self.global_kernel =  global_kernel\n",
    "        self.w = w\n",
    "        self.R = R\n",
    "        self.gKernel = gKernel\n",
    "        self.lKernel = lKernel\n",
    "        self.conv2d_local = nn.Conv2d(1,1,(self.R,self.lKernel)) # 30x1\n",
    "        self.conv2d_global = nn.Conv2d(1,1,(self.R,self.gKernel)) # 30x5\n",
    "        self.fc = nn.Linear(in_features=2*self.w-lKernel-gKernel+2, out_features=self.R) \n",
    "            # Change this number of out_features to forecast longer time\n",
    "            \n",
    "    def forward(self, x):\n",
    "        _local = self.conv2d_local(x)\n",
    "        _global = self.conv2d_global(x)\n",
    "        x = torch.cat((_local,_global),3)\n",
    "        x = self.fc(x)\n",
    "        x = torch.tanh(x)\n",
    "        return x"
   ]
  },
  {
   "cell_type": "code",
   "execution_count": 25,
   "id": "4fa3d51d-af4e-415f-b660-c47f46a572d8",
   "metadata": {},
   "outputs": [],
   "source": [
    "# Hyperparameters\n",
    "learning_rate = 1e-3\n",
    "train_len = train_tensor.shape[3]\n",
    "val_len = val_tensor.shape[3]\n",
    "test_len = test_tensor.shape[3]\n",
    "epochs = 100\n",
    "# Create Model\n",
    "cnn_extractor = CNN_Extractor(10,30,5,1)\n",
    "loss_fnc = nn.MSELoss()\n",
    "optimizer = torch.optim.SGD(cnn_extractor.parameters(), lr=learning_rate, momentum=0.9)\n"
   ]
  },
  {
   "cell_type": "code",
   "execution_count": 26,
   "id": "1870f3b2-884e-4c7b-8062-f6a6575baf3b",
   "metadata": {
    "tags": []
   },
   "outputs": [
    {
     "name": "stdout",
     "output_type": "stream",
     "text": [
      "Epoch: 0, Loss: 0.06829237937927246\t\tEpoch: 0, Val-loss: 0.06113471835851669\n",
      "Epoch: 2, Loss: 0.04358852654695511\t\tEpoch: 2, Val-loss: 0.03912579268217087\n",
      "Epoch: 4, Loss: 0.04306456074118614\t\tEpoch: 4, Val-loss: 0.0393313504755497\n",
      "Epoch: 6, Loss: 0.04253775253891945\t\tEpoch: 6, Val-loss: 0.039044883102178574\n",
      "Epoch: 8, Loss: 0.04207643121480942\t\tEpoch: 8, Val-loss: 0.03871741145849228\n",
      "Epoch: 10, Loss: 0.041688572615385056\t\tEpoch: 10, Val-loss: 0.038425836712121964\n",
      "Epoch: 12, Loss: 0.041361428797245026\t\tEpoch: 12, Val-loss: 0.038172464817762375\n",
      "Epoch: 14, Loss: 0.041083551943302155\t\tEpoch: 14, Val-loss: 0.037952277809381485\n",
      "Epoch: 16, Loss: 0.040845856070518494\t\tEpoch: 16, Val-loss: 0.037760261446237564\n",
      "Epoch: 18, Loss: 0.040641143918037415\t\tEpoch: 18, Val-loss: 0.03759221360087395\n",
      "Epoch: 20, Loss: 0.04046366363763809\t\tEpoch: 20, Val-loss: 0.0374445766210556\n",
      "Epoch: 22, Loss: 0.04030875489115715\t\tEpoch: 22, Val-loss: 0.03731445223093033\n",
      "Epoch: 24, Loss: 0.04017265513539314\t\tEpoch: 24, Val-loss: 0.03719935566186905\n",
      "Epoch: 26, Loss: 0.040052276104688644\t\tEpoch: 26, Val-loss: 0.03709721565246582\n",
      "Epoch: 28, Loss: 0.039945088326931\t\tEpoch: 28, Val-loss: 0.037006281316280365\n",
      "Epoch: 30, Loss: 0.03984902799129486\t\tEpoch: 30, Val-loss: 0.03692509979009628\n",
      "Epoch: 32, Loss: 0.03976235166192055\t\tEpoch: 32, Val-loss: 0.036852408200502396\n",
      "Epoch: 34, Loss: 0.039683595299720764\t\tEpoch: 34, Val-loss: 0.03678712993860245\n",
      "Epoch: 36, Loss: 0.039611585438251495\t\tEpoch: 36, Val-loss: 0.03672836720943451\n",
      "Epoch: 38, Loss: 0.03954530507326126\t\tEpoch: 38, Val-loss: 0.0366753526031971\n",
      "Epoch: 40, Loss: 0.03948391228914261\t\tEpoch: 40, Val-loss: 0.036627426743507385\n",
      "Epoch: 42, Loss: 0.03942668065428734\t\tEpoch: 42, Val-loss: 0.03658399358391762\n",
      "Epoch: 44, Loss: 0.03937302902340889\t\tEpoch: 44, Val-loss: 0.03654457628726959\n",
      "Epoch: 46, Loss: 0.039322417229413986\t\tEpoch: 46, Val-loss: 0.03650877624750137\n",
      "Epoch: 48, Loss: 0.039274416863918304\t\tEpoch: 48, Val-loss: 0.036476194858551025\n",
      "Epoch: 50, Loss: 0.039228666573762894\t\tEpoch: 50, Val-loss: 0.03644651919603348\n",
      "Epoch: 52, Loss: 0.03918485715985298\t\tEpoch: 52, Val-loss: 0.036419495940208435\n",
      "Epoch: 54, Loss: 0.03914269059896469\t\tEpoch: 54, Val-loss: 0.0363948754966259\n",
      "Epoch: 56, Loss: 0.039101969450712204\t\tEpoch: 56, Val-loss: 0.036372438073158264\n",
      "Epoch: 58, Loss: 0.03906247764825821\t\tEpoch: 58, Val-loss: 0.03635202720761299\n",
      "Epoch: 60, Loss: 0.03902404010295868\t\tEpoch: 60, Val-loss: 0.03633344918489456\n",
      "Epoch: 62, Loss: 0.038986530154943466\t\tEpoch: 62, Val-loss: 0.03631659597158432\n",
      "Epoch: 64, Loss: 0.03894980996847153\t\tEpoch: 64, Val-loss: 0.03630131483078003\n",
      "Epoch: 66, Loss: 0.0389137826859951\t\tEpoch: 66, Val-loss: 0.036287497729063034\n",
      "Epoch: 68, Loss: 0.038878340274095535\t\tEpoch: 68, Val-loss: 0.03627506643533707\n",
      "Epoch: 70, Loss: 0.03884341940283775\t\tEpoch: 70, Val-loss: 0.03626392409205437\n",
      "Epoch: 72, Loss: 0.038808949291706085\t\tEpoch: 72, Val-loss: 0.03625399246811867\n",
      "Epoch: 74, Loss: 0.038774874061346054\t\tEpoch: 74, Val-loss: 0.0362451933324337\n",
      "Epoch: 76, Loss: 0.03874114528298378\t\tEpoch: 76, Val-loss: 0.03623747080564499\n",
      "Epoch: 78, Loss: 0.03870769962668419\t\tEpoch: 78, Val-loss: 0.03623078390955925\n",
      "Epoch: 80, Loss: 0.03867453709244728\t\tEpoch: 80, Val-loss: 0.03622506558895111\n",
      "Epoch: 82, Loss: 0.03864157199859619\t\tEpoch: 82, Val-loss: 0.036220256239175797\n",
      "Epoch: 84, Loss: 0.03860883414745331\t\tEpoch: 84, Val-loss: 0.03621635213494301\n",
      "Epoch: 86, Loss: 0.03857627138495445\t\tEpoch: 86, Val-loss: 0.03621327877044678\n",
      "Epoch: 88, Loss: 0.03854385390877724\t\tEpoch: 88, Val-loss: 0.036211010068655014\n",
      "Epoch: 90, Loss: 0.038511570543050766\t\tEpoch: 90, Val-loss: 0.03620953857898712\n",
      "Epoch: 92, Loss: 0.038479410111904144\t\tEpoch: 92, Val-loss: 0.03620878607034683\n",
      "Epoch: 94, Loss: 0.03844737261533737\t\tEpoch: 94, Val-loss: 0.03620877489447594\n",
      "Epoch: 96, Loss: 0.03841543570160866\t\tEpoch: 96, Val-loss: 0.036209460347890854\n",
      "Epoch: 98, Loss: 0.03838358074426651\t\tEpoch: 98, Val-loss: 0.036210812628269196\n"
     ]
    }
   ],
   "source": [
    "# Train and evaluation\n",
    "for epoch in range(epochs):\n",
    "    for i in range(train_len-10):\n",
    "        losses = torch.tensor([0])\n",
    "        train_input = train_tensor[:,:,:,i:i+10] #input Rx1\n",
    "        train_target = torch.transpose(train_tensor[:,:,:,i+10:i+11],2,3)\n",
    "        \n",
    "        cnn_extractor.train()\n",
    "        y_pred = cnn_extractor(train_input)\n",
    "        loss = loss_fnc(train_target, y_pred)\n",
    "        losses = torch.hstack((losses, loss))\n",
    "        \n",
    "        optimizer.zero_grad()\n",
    "        loss.backward()\n",
    "        optimizer.step()\n",
    "    \n",
    "    if epoch%2==0:\n",
    "        cnn_extractor.eval()\n",
    "        for i in range(val_len-10):\n",
    "            val_losses = torch.tensor([0])\n",
    "#             cnn_extractor.eval()\n",
    "            val_input = val_tensor[:,:,:,i:i+10]\n",
    "            val_target = torch.transpose(val_tensor[:,:,:,i+10:i+11],2,3)\n",
    "            y_val = cnn_extractor(val_input)\n",
    "            val_loss = loss_fnc(val_target, y_val)\n",
    "            val_losses = torch.dstack((val_losses, val_loss))\n",
    "\n",
    "        val_avg = torch.mean(val_losses)\n",
    "        train_avg = torch.mean(losses)\n",
    "        print(f'Epoch: {epoch}, Loss: {train_avg}\\t\\tEpoch: {epoch}, Val-loss: {val_avg}')\n",
    "\n"
   ]
  },
  {
   "cell_type": "code",
   "execution_count": 12,
   "id": "0dbb7dea-f327-46f4-8a2f-59d47f18ecd9",
   "metadata": {},
   "outputs": [
    {
     "ename": "NameError",
     "evalue": "name 'y_pred' is not defined",
     "output_type": "error",
     "traceback": [
      "\u001b[0;31m---------------------------------------------------------------------------\u001b[0m",
      "\u001b[0;31mNameError\u001b[0m                                 Traceback (most recent call last)",
      "\u001b[0;32m<ipython-input-12-a950412d13d5>\u001b[0m in \u001b[0;36m<module>\u001b[0;34m()\u001b[0m\n\u001b[0;32m----> 1\u001b[0;31m \u001b[0my_pred\u001b[0m\u001b[0;34m.\u001b[0m\u001b[0mshape\u001b[0m\u001b[0;34m\u001b[0m\u001b[0m\n\u001b[0m",
      "\u001b[0;31mNameError\u001b[0m: name 'y_pred' is not defined"
     ]
    }
   ],
   "source": [
    "y_pred.shape"
   ]
  },
  {
   "cell_type": "code",
   "execution_count": null,
   "id": "cdd71a59-8749-4922-a94d-59f416d86a29",
   "metadata": {},
   "outputs": [],
   "source": [
    "# test_data = test_tensor[:,:,:,0:5] \n",
    "# prediction = cnn_extractor(test_data)\n",
    "# test_target = test_tensor[:,:,:,5:6]"
   ]
  },
  {
   "cell_type": "code",
   "execution_count": 22,
   "id": "b54364b5-5fc9-44fe-a484-183fc40116b9",
   "metadata": {},
   "outputs": [],
   "source": [
    "def test_evaluate(data, comment):\n",
    "    test_losses = torch.tensor([0])\n",
    "    for i in range(data.shape[3]-10):\n",
    "        test_data = data[:,:,:,i:i+10]\n",
    "        test_target = torch.transpose(data[:,:,:,i+10:i+11],2,3)\n",
    "        prediction = cnn_extractor(test_data)\n",
    "\n",
    "        test_loss = loss_fnc(test_target, prediction)\n",
    "        test_losses = torch.dstack((test_loss, test_losses))\n",
    "    \n",
    "    test_avg = torch.mean(test_losses)\n",
    "    print(f'Comment: {comment}\\nTest Loss : {test_avg}')"
   ]
  },
  {
   "cell_type": "code",
   "execution_count": 27,
   "id": "4d4d321d-7fd1-4650-9584-44745674b4ca",
   "metadata": {},
   "outputs": [
    {
     "name": "stdout",
     "output_type": "stream",
     "text": [
      "Comment: dawon\n",
      "Test Loss : 0.08585940301418304\n"
     ]
    }
   ],
   "source": [
    "test_evaluate(test_tensor, \"dawon\")"
   ]
  },
  {
   "cell_type": "code",
   "execution_count": 23,
   "id": "d8ab73c8-95bf-415e-867e-0fcd32087af0",
   "metadata": {},
   "outputs": [
    {
     "name": "stdout",
     "output_type": "stream",
     "text": [
      "Comment: Global+local\n",
      "Test Loss : 0.08808159828186035\n"
     ]
    }
   ],
   "source": [
    "test_evaluate(test_tensor, \"Global+local\")"
   ]
  },
  {
   "cell_type": "code",
   "execution_count": null,
   "id": "5cb294bc-ab3f-4c44-8d4d-816e6c3f3e89",
   "metadata": {},
   "outputs": [],
   "source": [
    "test_evaluate(test_tensor, \"Larger dataset\")"
   ]
  },
  {
   "cell_type": "code",
   "execution_count": null,
   "id": "a4bfef87-c496-49d8-8439-9ec4c8d78946",
   "metadata": {},
   "outputs": [],
   "source": [
    "test_evaluate(test_tensor, \"Without ReLu\")"
   ]
  },
  {
   "cell_type": "code",
   "execution_count": null,
   "id": "b4901d1c-1138-4e33-a3a8-ace430c5c9fa",
   "metadata": {},
   "outputs": [],
   "source": [
    "# # Evaluate with test data\n",
    "# test_losses = torch.tensor([0])\n",
    "# for i in range(test_len-5):\n",
    "#     test_data = test_tensor[:,:,:,i:i+5]\n",
    "#     test_target = torch.transpose(test_tensor[:,:,:,i+5:i+6],2,3)\n",
    "#     prediction = cnn_extractor(test_data)\n",
    "    \n",
    "#     test_loss = loss_fnc(test_target, prediction)\n",
    "#     test_losses = torch.dstack((test_loss, test_losses))\n",
    "\n",
    "# test_avg = torch.mean(test_losses)\n",
    "# print(f'Test Loss : {test_avg}')\n",
    "    "
   ]
  }
 ],
 "metadata": {
  "kernelspec": {
   "display_name": "Python 3",
   "language": "python",
   "name": "python3"
  },
  "language_info": {
   "codemirror_mode": {
    "name": "ipython",
    "version": 3
   },
   "file_extension": ".py",
   "mimetype": "text/x-python",
   "name": "python",
   "nbconvert_exporter": "python",
   "pygments_lexer": "ipython3",
   "version": "3.6.5"
  }
 },
 "nbformat": 4,
 "nbformat_minor": 5
}
